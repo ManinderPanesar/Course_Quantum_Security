{
 "cells": [
  {
   "cell_type": "markdown",
   "id": "f11cef84",
   "metadata": {},
   "source": [
    "## Implementation of Quantum Key Distribution protocol\n",
    "        \n",
    "Quantum Key Distribution (QKD) allows Alice and Bob to share a secret cryptographic key securely, even with an eavesdropper, Eve, present. Its security is grounded in quantum mechanics principles like the no-cloning theorem and uncertainty principle.\n",
    "       \n",
    "This notebook simulates the **BB84 protocol**, proposed by Charles Bennett and Gilles Brassard in 1984, a foundational QKD method. We’ll use Qiskit to generate a shared key, detect eavesdropping, and encrypt/decrypt messages!"
   ]
  },
  {
   "cell_type": "markdown",
   "id": "53b89f35",
   "metadata": {},
   "source": [
    "## Overview of the BB84 Protocol\n",
    "        \n",
    "BB84 creates a secure key (0s and 1s) between Alice (sender) and Bob (receiver) using quantum communication. It has three phases:\n",
    "        \n",
    "### Phase 1 - Sending\n",
    "Alice generates a random *bitstring* and *bases* (Z: rectilinear, X: diagonal). She encodes bits into qubits:\n",
    "        \n",
    "| Bit | Basis | State Encoded |\n",
    "|:---:|:-----:|:-------------:|\n",
    "| 0 | Z | $$|0⟩$$ (horizontal) |\n",
    "| 1 | Z | $$|1⟩$$ (vertical) |\n",
    "| 0 | X | $$|+⟩$$ (+45°) |\n",
    "| 1 | X | $$|-⟩$$ (-45°) |\n",
    "        \n",
    "Alice sends qubits to Bob via a quantum channel.\n",
    "        \n",
    "### Phase 2 - Receiving\n",
    "Bob measures each qubit in a random basis (Z or X). Matching bases yield Alice’s bit; mismatches give random results (50% chance of 0 or 1).\n",
    "        \n",
    "### Phase 3 - Comparing\n",
    "Alice and Bob publicly compare bases (not bits), keeping bits where bases match (~50%) to form the *sifted key*. They sample bits to compute the Quantum Bit Error Rate (QBER). QBER < 11% suggests a secure channel; higher values indicate Eve. They distill a final secure key."
   ]
  },
  {
   "cell_type": "markdown",
   "id": "c7b3a5ef",
   "metadata": {},
   "source": [
    "## Setting Up the Simulation\n",
    "        \n",
    "We’ll simulate BB84 with Qiskit’s latest tools:\n",
    "- `qiskit` for quantum circuits.\n",
    "- `qiskit_aer` for simulation via `AerSimulator` and `SamplerV2`.\n",
    "- `numpy` for random bits/bases.\n",
    "- `matplotlib` for visualizations.\n",
    "- `binascii` for encryption/decryption.\n",
    "\n",
    "Run the block below to import libraries."
   ]
  },
  {
   "cell_type": "code",
   "execution_count": null,
   "id": "9596dea2",
   "metadata": {},
   "outputs": [],
   "source": [
    "!pip install qiskit   #install if needed"
   ]
  },
  {
   "cell_type": "code",
   "execution_count": null,
   "id": "8fdf50e9",
   "metadata": {},
   "outputs": [],
   "source": [
    "# Block 1 - Import libraries\n",
    "import numpy as np\n",
    "# Importing standard Qiskit libraries\n",
    "from qiskit import QuantumCircuit, transpile\n",
    "from qiskit_aer import AerSimulator\n",
    "from qiskit_aer.primitives import SamplerV2\n",
    "import numpy as np\n",
    "import matplotlib.pyplot as plt\n",
    "import binascii\n",
    "\n",
    "\n",
    "print(\"Libraries imported successfully!\")"
   ]
  },
  {
   "cell_type": "markdown",
   "id": "75a1769d",
   "metadata": {},
   "source": [
    "### Step 1 & 2 - Alice Generates Random Bits and Bases\",\n",
    "        \n",
    "Alice starts by generating a random bitstring (`alice_bits`) and a list of bases (`alice_bases`), where 0 represents the Z basis (rectilinear) and 1 represents the X basis (diagonal).\n",
    "        \n",
    "In the block below, generate 500 random bits and bases for Alice. Why 500? We expect ~50% to survive sifting, and some may be used for QBER checking, leaving a reasonably sized key."
   ]
  },
  {
   "cell_type": "code",
   "execution_count": null,
   "id": "702ce338",
   "metadata": {},
   "outputs": [],
   "source": [
    "#BLOCK 2 - Generate Alice's bits and bases\n",
    "np.random.seed(42) # For reproducibility\n",
    "n_bits = 500 #Number of bits Alice sends\n",
    "alice_bits = np.random.randint(2, size=n_bits)\n",
    "alice_bases = np.random.randint(2, size=n_bits)\n",
    "\n",
    "print(\"First 10 bits:\", alice_bits[:10])\n",
    "print(\"First 10 bases (0=Z, 1=X):\", alice_bases[:10])"
   ]
  },
  {
   "cell_type": "markdown",
   "id": "5ce85f4e",
   "metadata": {},
   "source": [
    "You should see two lists: `alice_bits` (e.g., [0, 1, 1, ...]) and `alice_bases` (e.g., [0, 1, 1, ...]). Each pair defines a qubit Alice will send."
   ]
  },
  {
   "cell_type": "markdown",
   "id": "f1c5d433",
   "metadata": {},
   "source": [
    "### Step 3 & 4 - Alice Encodes and Sends Qubits\n",
    "\n",
    "Alice encodes each bit into a qubit based on the table above. For example:\n",
    "- Bit 0, Z basis → |0⟩ (no gate)\n",
    "- Bit 1, X basis → |-⟩ (X gate, then H gate)\n",
    "\n",
    "She sends these qubits to Bob. In simulation, we’ll encode qubits and pass them to Bob’s measurement step.\n",
    "\n",
    "Define a function `encode_qubit` to create a quantum circuit for each bit and basis."
   ]
  },
  {
   "cell_type": "code",
   "execution_count": null,
   "id": "761d7c6c",
   "metadata": {},
   "outputs": [],
   "source": [
    "# BLOCK 3 - Encode qubits\",\n",
    "def encode_qubit(bit, basis):\n",
    "    qc = QuantumCircuit(1, 1)\n",
    "    if bit == 1:\n",
    "        qc.x(0)  # |1⟩ for bit=1,\n",
    "    if basis == 1:\n",
    "        qc.h(0)  # X basis: |+⟩ or |-⟩,\n",
    "    return qc"
   ]
  },
  {
   "cell_type": "markdown",
   "id": "be05cdcb",
   "metadata": {},
   "source": [
    "This function prepares one of four states: |0⟩, |1⟩, |+⟩, or |-⟩, simulating photon polarisation."
   ]
  },
  {
   "cell_type": "markdown",
   "id": "9caa42e7",
   "metadata": {},
   "source": [
    "### Step 5, 6, & 7 - Bob Chooses Bases, Measures, and Decodes\n",
    "        \n",
    "Bob generates his own random bases (`bob_bases`) and measures each qubit. If his basis matches Alice’s, he gets her bit; if not, the result is random.\n",
    "\n",
    "We’ll also simulate Eve’s eavesdropping (optional). If `eve_present=True`, Eve measures in random bases, potentially disrupting the key.\n",
    "\n",
    "In the block below, define a measurement function and simulate the quantum channel."
   ]
  },
  {
   "cell_type": "code",
   "execution_count": null,
   "id": "7e9f60b2",
   "metadata": {},
   "outputs": [],
   "source": [
    "# BLOCK 4 - Bob measures (with optional Eve)\\n\",\n",
    "def measure_qubit(qc, basis):\n",
    "    if basis == 1:\n",
    "        qc.h(0)  # Measure in X basis,\n",
    "    qc.measure(0, 0)\n",
    "    return qc\n",
    "        \n",
    "# Simulation parameters\n",
    "eve_present = False   #True\n",
    "bob_bases = np.random.randint(2, size=n_bits)\n",
    "bob_bits = []\n",
    "simulator = AerSimulator()\n",
    "sampler = SamplerV2()\n",
    "     \n",
    "# Eavesdropper setup\n",
    "if eve_present:\n",
    "    eve_bases = np.random.randint(2, size=n_bits)\n",
    "        \n",
    "# Quantum channel simulation\n",
    "for i in range(n_bits):\n",
    "    # Step 3: Alice encodes\n",
    "    qc = encode_qubit(alice_bits[i], alice_bases[i])\n",
    "    # Step 4: Eve intercepts (if present)\n",
    "    if eve_present:\n",
    "        qc = measure_qubit(qc, eve_bases[i])\n",
    "        qc_transpiled = transpile(qc, simulator)\n",
    "        job = sampler.run([qc_transpiled], shots=1)\n",
    "        result = job.result()\n",
    "        eve_bit = int(list(result[0].data['c'].get_counts().keys())[0])\n",
    "        qc = encode_qubit(eve_bit, eve_bases[i])  # Eve resends\n",
    "    # Step 6: Bob measures\n",
    "    qc = measure_qubit(qc, bob_bases[i])\n",
    "    # Step 7: Bob decodes\n",
    "    qc_transpiled = transpile(qc, simulator)\n",
    "    job = sampler.run([qc_transpiled], shots=1)\n",
    "    result = job. result()\n",
    "    bob_bit = int(list(result[0].data['c'].get_counts().keys())[0])\n",
    "    bob_bits.append(bob_bit)        \n",
    "        \n",
    "print(\"First 10 Bob’s bases:\", bob_bases[:10])\n",
    "print(\"First 10 Bob’s bits:\", bob_bits[:10])"
   ]
  },
  {
   "cell_type": "markdown",
   "id": "197b4a29",
   "metadata": {},
   "source": [
    "Bob’s bits may differ due to basis mismatches or Eve. Let’s sift the keys."
   ]
  },
  {
   "cell_type": "markdown",
   "id": "c3c555df",
   "metadata": {},
   "source": [
    "### Step 8 - Sift Bases\n",
    "\n",
    "Alice and Bob compare bases publicly, retaining bits where bases match (~50%, ~250 bits).\n",
    "\n",
    "Define `sift_keys` for sifted keys."
   ]
  },
  {
   "cell_type": "code",
   "execution_count": null,
   "id": "bc7a17d2",
   "metadata": {},
   "outputs": [],
   "source": [
    "# BLOCK 5 - Sift keys\n",
    "def sift_keys(alice_bits, alice_bases, bob_bits, bob_bases):\n",
    "    sifted_key_alice = []\n",
    "    sifted_key_bob = []\n",
    "    for i in range(len(alice_bits)):\n",
    "        if alice_bases[i] == bob_bases[i]:\n",
    "            sifted_key_alice.append(alice_bits[i])\n",
    "            sifted_key_bob.append(bob_bits[i])\n",
    "    return sifted_key_alice, sifted_key_bob\n",
    "\n",
    "sifted_key_alice, sifted_key_bob = sift_keys(alice_bits, alice_bases, bob_bits, bob_bases)\n",
    "print(\"Sifted key length:\", len(sifted_key_alice))\n",
    "print(\"First 10 sifted bits (Alice):\", sifted_key_alice[:10])\n",
    "print(\"First 10 sifted bits (Bob):\", sifted_key_bob[:10])"
   ]
  },
  {
   "cell_type": "markdown",
   "id": "de2c1b09",
   "metadata": {},
   "source": [
    "Sifted keys should align without Eve. Is she listening?"
   ]
  },
  {
   "cell_type": "markdown",
   "id": "fe5e2f50",
   "metadata": {},
   "source": [
    "### Step 9 - Check for Eavesdropping\n",
    "        \n",
    "Alice and Bob sample ~25% of sifted bits to compute QBER. QBER < 11% indicates a secure channel; >11% suggests Eve.\n",
    "\n",
    "Calculate QBER."
   ]
  },
  {
   "cell_type": "code",
   "execution_count": null,
   "id": "75974ae0",
   "metadata": {},
   "outputs": [],
   "source": [
    "# BLOCK 6 - Calculate QBER\\n\",\n",
    "def calculate_qber(key_a, key_b, sample_size):\n",
    "    if len(key_a) < sample_size:\n",
    "        sample_size = len(key_a)\n",
    "    if sample_size == 0:\n",
    "        return 0\n",
    "    sample_indices = np.random.choice(len(key_a), sample_size, replace=False)\n",
    "    errors = sum(key_a[i] != key_b[i] for i in sample_indices)\n",
    "    return errors / sample_size\n",
    "\n",
    "sample_size = max(10, len(sifted_key_alice) // 4)\n",
    "qber = calculate_qber(sifted_key_alice, sifted_key_bob, sample_size)\n",
    "print(f\"QBER: {qber:.2%}\")"
   ]
  },
  {
   "cell_type": "markdown",
   "id": "abfb3a62",
   "metadata": {},
   "source": [
    "Expect QBER ~20-30% with Eve, ~0% without."
   ]
  },
  {
   "cell_type": "markdown",
   "id": "4ab2f3a3",
   "metadata": {},
   "source": [
    "### Step 10 - Final Key Distillation\n",
    "        \n",
    "If QBER < 11%, the sifted key becomes the final key (simplified, no full error correction).\n",
    "\n",
    "Set the final key."
   ]
  },
  {
   "cell_type": "code",
   "execution_count": null,
   "id": "370c2d30",
   "metadata": {},
   "outputs": [],
   "source": [
    "# BLOCK 7 - Generate final key\n",
    "qber_threshold = 0.11\n",
    "if qber < qber_threshold and len(sifted_key_alice) > 0:\n",
    "    alice_key = sifted_key_alice\n",
    "    bob_key = sifted_key_bob\n",
    "    key_status = \"Secure key generated\"\n",
    "else:\n",
    "    alice_key = []\n",
    "    bob_key = []\n",
    "    key_status = \"Key discarded due to high QBER\"\n",
    "\n",
    "print(f\"Key status: {key_status}\")\n",
    "print(f\"Keys match: {alice_key == bob_key}\")\n",
    "if alice_key:\n",
    "    print(f\"Final key length: {len(alice_key)}\")\n",
    "    print(f\"First 10 bits: {alice_key[:10]}\")\n",
    "else:\n",
    "    print(\"No key generated; cannot compare keys.\")"
   ]
  },
  {
   "cell_type": "markdown",
   "id": "2f01fabb",
   "metadata": {},
   "source": [
    "Matching keys with low QBER confirm a secure key!"
   ]
  },
  {
   "cell_type": "markdown",
   "id": "9c195a00",
   "metadata": {},
   "source": [
    "## Visualizing the Results\n",
    "        \n",
    "Visualize sifted keys and basis matches to assess protocol efficiency.\n",
    "\n",
    "Plot the first 20 sifted bits and basis matches."
   ]
  },
  {
   "cell_type": "code",
   "execution_count": null,
   "id": "d503b7ac",
   "metadata": {},
   "outputs": [],
   "source": [
    "# BLOCK 8 - Visualize results\n",
    "if len(sifted_key_alice) > 0:\n",
    "    plt.figure(figsize=(10, 4))\n",
    "    plt.plot(range(min(20, len(sifted_key_alice))), sifted_key_alice[:20], 'o-', label=\"Alice's sifted key\")\n",
    "    plt.plot(range(min(20, len(sifted_key_bob))), sifted_key_bob[:20], 'x-', label=\"Bob's sifted key\")\n",
    "    plt.title(\"Sifted Key Comparison (First 20 Bits)\")\n",
    "    plt.xlabel(\"Bit Index\")\n",
    "    plt.ylabel(\"Bit Value\")\n",
    "    plt.legend()\n",
    "    plt.grid(True)\n",
    "    plt.show()\n",
    "\n",
    "basis_matches = [alice_bases[i] == bob_bases[i] for i in range(n_bits)]\n",
    "plt.figure(figsize=(10, 4))\n",
    "plt.plot(range(n_bits), basis_matches, 'o', label=\"Basis Match (1=Match, 0=Mismatch)\")\n",
    "plt.title(\"Basis Matching Between Alice and Bob\")\n",
    "plt.xlabel(\"Bit Index\")\n",
    "plt.ylabel(\"Match (1 or 0)\")\n",
    "plt.legend()\n",
    "plt.grid(True)\n",
    "plt.show()"
   ]
  },
  {
   "cell_type": "markdown",
   "id": "9b413348",
   "metadata": {},
   "source": [
    "Key plots show agreement. Basis matches confirm ~50% retention."
   ]
  },
  {
   "cell_type": "markdown",
   "id": "2355507e",
   "metadata": {},
   "source": [
    "### Encrypting and Decrypting Messages\n",
    "\n",
    "With a secure key, Alice and Bob use a one-time pad for encryption/decryption.\n",
    "\n",
    "Define helper functions."
   ]
  },
  {
   "cell_type": "code",
   "execution_count": null,
   "id": "c1dd5dfd",
   "metadata": {},
   "outputs": [],
   "source": [
    "# BLOCK 9 - Encryption and decryption functions\n",
    "def encrypt_message(unencrypted_string, key):\n",
    "    if not key or not all(bit in (0, 1) for bit in key):\n",
    "        raise ValueError(\"Key must be a non-empty list of 0s and 1s\")\n",
    "    try:\n",
    "        bits = bin(int(binascii.hexlify(unencrypted_string.encode('utf-8', 'surrogatepass')), 16))[2:]\n",
    "        bitstring = bits.zfill(8 * ((len(bits) + 7) // 8))\n",
    "        encrypted_string = \"\"\n",
    "        key_length = len(key)\n",
    "        for i in range(len(bitstring)):\n",
    "            if bitstring[i] not in ('0', '1'):\n",
    "                raise ValueError(f\"Invalid bit at position {i}: {bitstring[i]}\")\n",
    "            key_bit = key[i % key_length]\n",
    "            encrypted_bit = int(bitstring[i]) ^ int(key_bit)\n",
    "            encrypted_string += str(encrypted_bit)\n",
    "        return encrypted_string\n",
    "    except UnicodeEncodeError as e:\n",
    "        raise ValueError(f\"Message encoding failed: {e}\")\n",
    "\n",
    "def decrypt_message(encrypted_bits, key):\n",
    "    if not key or not all(bit in (0, 1) for bit in key):\n",
    "        raise ValueError(\"Key must be a non-empty list of 0s and 1s\")\n",
    "    if not encrypted_bits or not all(c in ('0', '1') for c in encrypted_bits):  # Fixed: check encrypted_bits, not key\n",
    "        raise ValueError(\"Encrypted bits must be a non-empty string of 0s and 1s\")\n",
    "    try:\n",
    "        unencrypted_bits = \"\"\n",
    "        key_length = len(key)\n",
    "        for i in range(len(encrypted_bits)):\n",
    "            key_bit = key[i % key_length]\n",
    "            unencrypted_bit = int(encrypted_bits[i]) ^ int(key_bit)\n",
    "            unencrypted_bits += str(unencrypted_bit)\n",
    "        i = int(unencrypted_bits, 2)\n",
    "        hex_string = '%x' % i\n",
    "        n = len(hex_string)\n",
    "        bits = binascii.unhexlify(hex_string.zfill(n + (n & 1)))\n",
    "        unencrypted_string = bits.decode('utf-8', 'surrogatepass')\n",
    "        return unencrypted_string\n",
    "    except (ValueError, UnicodeDecodeError) as e:\n",
    "        raise ValueError(f\"Decryption failed: {e}\")"
   ]
  },
  {
   "cell_type": "markdown",
   "id": "2f83da16",
   "metadata": {},
   "source": [
    "Encrypt and decrypt a message."
   ]
  },
  {
   "cell_type": "code",
   "execution_count": null,
   "id": "a38ef7cf",
   "metadata": {},
   "outputs": [],
   "source": [
    "# BLOCK 10 - Send and receive a message\n",
    "if alice_key:\n",
    "    message = \"QKD is secure!\"\n",
    "    print(\"Original Message:\", message)\n",
    "    encrypted_message = encrypt_message(message, alice_key)\n",
    "    print(\"Encrypted message:\", encrypted_message)\n",
    "    decrypted_message = decrypt_message(encrypted_message, bob_key)\n",
    "    print(\"Decrypted message:\", decrypted_message)\n",
    "else:\n",
    "    print(\"No secure key available for encryption.\")"
   ]
  },
  {
   "cell_type": "markdown",
   "id": "c7464f7c",
   "metadata": {},
   "source": [
    "## Analysis and Exercises\n",
    "        \n",
    "- **Sifted Key Length:** ~250 bits (50% of 500)\n",
    "- **QBER:** ~0% without Eve, ~20-30% with Eve.\n",
    "- **Security:** QBER > 11% discards the key.\n",
    "\n",
    "**Exercises:**\n",
    "1. Set `eve_present = True` in Block 4. What’s the QBER?\n",
    "2. Set `n_bits = 1000` in Block 2. How long is the sifted key?\n",
    "3. Set `sample_size` to `len(sifted_key_alice) // 2` in Block 6. Does QBER change?\n",
    "4. Plot QBER vs. sample size (10%, 25%, 50%) in a new block."
   ]
  },
  {
   "cell_type": "markdown",
   "id": "14f38126",
   "metadata": {},
   "source": [
    "A matching decrypted message confirms a secure key."
   ]
  },
  {
   "cell_type": "code",
   "execution_count": null,
   "id": "b071c4b8",
   "metadata": {},
   "outputs": [],
   "source": [
    "# BLOCK 11 - Version information\n",
    "import qiskit\n",
    "print(\"Qiskit version:\", qiskit.__version__)"
   ]
  },
  {
   "cell_type": "markdown",
   "id": "bd12e986",
   "metadata": {},
   "source": []
  }
 ],
 "metadata": {
  "kernelspec": {
   "display_name": "base",
   "language": "python",
   "name": "python3"
  },
  "language_info": {
   "codemirror_mode": {
    "name": "ipython",
    "version": 3
   },
   "file_extension": ".py",
   "mimetype": "text/x-python",
   "name": "python",
   "nbconvert_exporter": "python",
   "pygments_lexer": "ipython3",
   "version": "3.11.7"
  }
 },
 "nbformat": 4,
 "nbformat_minor": 5
}
