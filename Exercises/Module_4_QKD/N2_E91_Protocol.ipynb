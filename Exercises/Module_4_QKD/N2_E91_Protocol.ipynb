{
 "cells": [
  {
   "cell_type": "markdown",
   "metadata": {},
   "source": [
    "\"\"\"\n",
    "E91 Protocol Simulation with Qiskit\n",
    "\n",
    "This notebook demonstrates the Ekert 91 (E91) quantum key distribution protocol\n",
    "using Qiskit. E91 leverages entanglement and Bell's theorem (specifically the\n",
    "CHSH inequality) to establish a shared secret key between two parties (Alice\n",
    "and Bob) and detect potential eavesdropping (Eve).\n",
    "\"\"\"\n",
    "\n",
    "\n",
    "## 1. Introduction to E91\n",
    "\n",
    "The E91 protocol works as follows:\n",
    "1.  **Source**: A source produces entangled qubit pairs (e.g., Bell states), sending one qubit to Alice and the other to Bob. We will use the $|\\Psi^-\\rangle = \\frac{1}{\\sqrt{2}}(|01\\rangle - |0\\rangle)$ state.\n",
    "2.  **Measurement Basis Choice**: Alice and Bob independently and randomly choose measurement bases for each qubit they receive.\n",
    "    * Alice's bases (angles relative to Z-axis): $A_1 = 0^\\circ$ (Z), $A_2 = 45^\\circ$, $A_3 = 90^\\circ$ (X).\n",
    "    * Bob's bases (angles relative to Z-axis): $B_1 = 45^\\circ$, $B_2 = 90^\\circ$ (X), $B_3 = 135^\\circ$.\n",
    "3.  **Measurement**: They measure their qubits in the chosen bases and record the outcomes (0 or 1).\n",
    "4.  **Basis Reconciliation (Public Discussion)**: Alice and Bob publicly announce the sequence of bases they used for each measurement, but *not* the results.\n",
    "5.  **Data Sifting & CHSH Test**: They use measurements where their bases correspond to specific pairs needed for the CHSH test (e.g., $(A_1, B_1)$, $(A_1, B_3)$, $(A_3, B_1)$, $(A_3, B_3)$). They calculate the CHSH correlation value $S$. In a noise-free, secure scenario, $|S| = 2\\sqrt{2} \\approx 2.828$. If $|S| \\le 2$, it indicates either significant noise or the presence of an eavesdropper (classical limit).\n",
    "6.  **Key Generation**: If the CHSH test indicates security ($|S|$ is sufficiently large, close to $2\\sqrt{2}$), they use the measurement outcomes from the *other* basis combinations (e.g., $(A_1, B_2)$, $(A_2, B_1)$, $(A_2, B_2)$, etc.) to form their raw secret keys. For pairs where measurements are anti-correlated (like $A_2, B_1$), one party (e.g., Bob) flips their bits.\n",
    "7.  **Post-Processing**: Classical error correction and privacy amplification are typically applied to the raw key (not implemented in this basic simulation).\n",
    "\n",
    "## 2. Setup\n"
   ]
  },
  {
   "cell_type": "markdown",
   "metadata": {},
   "source": [
    "Import necessary libraries and set simulation parameters."
   ]
  },
  {
   "cell_type": "code",
   "execution_count": 1,
   "metadata": {},
   "outputs": [],
   "source": [
    "# Import Qiskit and other useful libraries\n",
    "import numpy as np\n",
    "import math\n",
    "from qiskit import QuantumCircuit, QuantumRegister, ClassicalRegister, transpile\n",
    "from qiskit_aer import AerSimulator # Use AerSimulator for simulation"
   ]
  },
  {
   "cell_type": "code",
   "execution_count": 2,
   "metadata": {},
   "outputs": [],
   "source": [
    "# Parameters\n",
    "NUM_QUBITS = 2 # E91 uses pairs of qubits\n",
    "N_SHOTS = 2000 # Number of entangled pairs to generate and measure (adjust as needed)"
   ]
  },
  {
   "cell_type": "code",
   "execution_count": 3,
   "metadata": {},
   "outputs": [],
   "source": [
    "# Define measurement bases angles (in radians)\n",
    "# Alice's angles\n",
    "alice_angles = {\n",
    "    1: 0,          # A1: Z-basis (0 degrees)\n",
    "    2: math.pi / 4, # A2: 45 degrees\n",
    "    3: math.pi / 2  # A3: X-basis (90 degrees)\n",
    "}\n",
    "# Bob's angles\n",
    "bob_angles = {\n",
    "    1: math.pi / 4,   # B1: 45 degrees\n",
    "    2: math.pi / 2,   # B2: X-basis (90 degrees)\n",
    "    3: 3 * math.pi / 4 # B3: 135 degrees\n",
    "}\n"
   ]
  },
  {
   "cell_type": "code",
   "execution_count": 4,
   "metadata": {},
   "outputs": [
    {
     "name": "stdout",
     "output_type": "stream",
     "text": [
      "Setup Complete.\n",
      "Simulating 2000 rounds of E91.\n",
      "Alice's bases angles (rad): {1: 0, 2: 0.7853981633974483, 3: 1.5707963267948966}\n",
      "Bob's bases angles (rad): {1: 0.7853981633974483, 2: 1.5707963267948966, 3: 2.356194490192345}\n",
      "Basis pairs for CHSH test: [(1, 1), (1, 3), (3, 1), (3, 3)]\n"
     ]
    }
   ],
   "source": [
    "# Basis choices for CHSH calculation (Ekert's original paper)\n",
    "CHSH_BASIS_PAIRS = [(1, 1), (1, 3), (3, 1), (3, 3)] # (Alice_index, Bob_index)\n",
    "\n",
    "# Mapping measurement outcomes {0, 1} to values {+1, -1} for correlation calculation\n",
    "def outcome_to_value(outcome):\n",
    "    return 1 if outcome == '0' else -1\n",
    "\n",
    "print(\"Setup Complete.\")\n",
    "print(f\"Simulating {N_SHOTS} rounds of E91.\")\n",
    "print(f\"Alice's bases angles (rad): {alice_angles}\")\n",
    "print(f\"Bob's bases angles (rad): {bob_angles}\")\n",
    "print(f\"Basis pairs for CHSH test: {CHSH_BASIS_PAIRS}\")"
   ]
  },
  {
   "cell_type": "markdown",
   "metadata": {},
   "source": [
    "## 3. Quantum Simulation\n",
    "\n",
    "We will simulate the process of generating entangled pairs, distributing them, choosing measurement bases, and measuring."
   ]
  },
  {
   "cell_type": "code",
   "execution_count": 5,
   "metadata": {},
   "outputs": [],
   "source": [
    "# Initialize simulator\n",
    "# We use statevector simulator for ideal simulation, can be changed to others like 'qasm_simulator'\n",
    "simulator = AerSimulator(method='statevector') # Use statevector simulator for perfect results initially\n",
    "\n",
    "# Store results\n",
    "results = [] # List to store (alice_basis, bob_basis, alice_outcome, bob_outcome) for each shot"
   ]
  },
  {
   "cell_type": "code",
   "execution_count": 6,
   "metadata": {},
   "outputs": [],
   "source": [
    "# --- Function to create the Bell state |Psi-> ---\n",
    "def create_bell_psi_minus():\n",
    "    qr = QuantumRegister(NUM_QUBITS, 'q')\n",
    "    cr = ClassicalRegister(NUM_QUBITS, 'c')\n",
    "    qc = QuantumCircuit(qr, cr, name='Bell_Psi_Minus')\n",
    "    qc.h(qr[0])      # Apply Hadamard to the first qubit\n",
    "    qc.cx(qr[0], qr[1]) # Apply CNOT gate\n",
    "    # To get |Psi-> from |Phi+> = 1/sqrt(2)(|00> + |11>), apply Z to q0 and X to q1\n",
    "    qc.z(qr[0])\n",
    "    qc.x(qr[1])\n",
    "    qc.barrier() # Visual separator\n",
    "    return qc, qr, cr\n"
   ]
  },
  {
   "cell_type": "markdown",
   "metadata": {},
   "source": [
    "#### Function to apply measurement rotation\n",
    "Measurement in a basis defined by angle 'theta' relative to Z-axis is achieved by rotating the state by Ry(-theta) before Z-measurement."
   ]
  },
  {
   "cell_type": "code",
   "execution_count": 7,
   "metadata": {},
   "outputs": [],
   "source": [
    "def apply_measurement_rotation(qc, qubit, basis_angle):\n",
    "    # Note: Qiskit's measure operation is always in the Z-basis.\n",
    "    # To measure in a basis rotated by theta (in X-Z plane), we apply Ry(-theta).\n",
    "    if not np.isclose(basis_angle, 0): # No rotation needed for Z-basis (theta=0)\n",
    "         # We apply Ry(angle) to measure in basis defined by angle -angle/2 ? No.\n",
    "         # Ry(beta) rotates around Y. To measure along axis 'theta' from Z towards X,\n",
    "         # we rotate the state vector by -theta around Y.\n",
    "         qc.ry(-basis_angle, qubit) # Correct rotation to align measurement axis\n"
   ]
  },
  {
   "cell_type": "code",
   "execution_count": 9,
   "metadata": {},
   "outputs": [
    {
     "name": "stdout",
     "output_type": "stream",
     "text": [
      "Starting simulation loop...\n",
      "  Completed 200/2000 rounds...\n",
      "  Completed 400/2000 rounds...\n",
      "  Completed 600/2000 rounds...\n",
      "  Completed 800/2000 rounds...\n",
      "  Completed 1000/2000 rounds...\n",
      "  Completed 1200/2000 rounds...\n",
      "  Completed 1400/2000 rounds...\n",
      "  Completed 1600/2000 rounds...\n",
      "  Completed 1800/2000 rounds...\n",
      "  Completed 2000/2000 rounds...\n",
      "Simulation loop finished.\n",
      "Total results collected: 2000\n",
      "\n",
      "Sample results (first 5):\n",
      "{'alice_basis': 1, 'bob_basis': 2, 'alice_outcome': '1', 'bob_outcome': '1'}\n",
      "{'alice_basis': 2, 'bob_basis': 2, 'alice_outcome': '0', 'bob_outcome': '1'}\n",
      "{'alice_basis': 3, 'bob_basis': 1, 'alice_outcome': '0', 'bob_outcome': '0'}\n",
      "{'alice_basis': 1, 'bob_basis': 2, 'alice_outcome': '1', 'bob_outcome': '0'}\n",
      "{'alice_basis': 3, 'bob_basis': 2, 'alice_outcome': '0', 'bob_outcome': '1'}\n"
     ]
    }
   ],
   "source": [
    "# --- Simulation Loop ---\n",
    "print(\"Starting simulation loop...\")\n",
    "for i in range(N_SHOTS):\n",
    "    # 1. Alice and Bob randomly choose their bases\n",
    "    alice_basis_choice = np.random.randint(1, 4) # 1, 2, or 3\n",
    "    bob_basis_choice = np.random.randint(1, 4)   # 1, 2, or 3\n",
    "\n",
    "    # 2. Create Bell Pair |Psi->\n",
    "    qc, qr, cr = create_bell_psi_minus()\n",
    "\n",
    "    # 3. Apply measurement rotations based on choices\n",
    "    apply_measurement_rotation(qc, qr[0], alice_angles[alice_basis_choice])\n",
    "    apply_measurement_rotation(qc, qr[1], bob_angles[bob_basis_choice])\n",
    "    qc.barrier() # Visual separator\n",
    "\n",
    "    # 4. Measure in the computational (Z) basis\n",
    "    # Maps qr[0] -> cr[0] (Alice), qr[1] -> cr[1] (Bob)\n",
    "    qc.measure(qr, cr)\n",
    "\n",
    "    # 5. Transpile for the simulator\n",
    "    tqc = transpile(qc, simulator)\n",
    "\n",
    "    # 6. Run the simulation (1 shot per loop iteration)\n",
    "    # Using run() directly is fine for shot-by-shot simulation like this.\n",
    "    job = simulator.run(tqc, shots=1, memory=True) # Use memory=True to get individual shot results\n",
    "    result = job.result()\n",
    "    memory = result.get_memory(tqc) # Returns list like ['0 1']\n",
    "\n",
    "    if memory:\n",
    "        measurement_outcome = memory[0] # Get the single shot result 'b a' (Bob Alice)\n",
    "        # Check if the string has the expected length (NUM_QUBITS)\n",
    "        if len(measurement_outcome) == NUM_QUBITS:\n",
    "             # Assuming format 'ba' ('<cr[1]_result><cr[0]_result>')\n",
    "             # Bob's result (cr[1]) is at index 0\n",
    "             # Alice's result (cr[0]) is at index 1\n",
    "            bob_outcome = measurement_outcome[0]\n",
    "            alice_outcome = measurement_outcome[1]\n",
    "\n",
    "\n",
    "            # 7. Store results\n",
    "            results.append({\n",
    "                'alice_basis': alice_basis_choice,\n",
    "                'bob_basis': bob_basis_choice,\n",
    "                'alice_outcome': alice_outcome,     # Storing Alice's outcome '0' or '1'\n",
    "                'bob_outcome': bob_outcome          # Storing Bob's outcome '0' or '1'\n",
    "                })\n",
    "        else:\n",
    "             # Handle unexpected format\n",
    "            print(f\"Warning: Shot {i+1}: Unexpected measurement outcome format: '{measurement_outcome}'. Skipping.\")\n",
    "             # Optionally add more robust error handling or debugging here\n",
    "    else:\n",
    "        print(f\"Warning: Shot {i+1}: No memory result returned from simulator.\")\n",
    "\n",
    "\n",
    "    # Optional: Print progress\n",
    "    if (i + 1) % (N_SHOTS // 10) == 0:\n",
    "        print(f\"  Completed {i + 1}/{N_SHOTS} rounds...\")\n",
    "\n",
    "print(\"Simulation loop finished.\")\n",
    "print(f\"Total results collected: {len(results)}\")\n",
    "\n",
    "# Display first few results for verification\n",
    "print(\"\\nSample results (first 5):\")\n",
    "for k in range(min(5, len(results))):\n",
    "    print(results[k])\n"
   ]
  },
  {
   "cell_type": "markdown",
   "metadata": {},
   "source": [
    "## 4. Classical Post-Processing and CHSH Test\n",
    "\n",
    "Now, Alice and Bob publicly share their basis choices and perform the CHSH test using the agreed-upon basis pairs."
   ]
  },
  {
   "cell_type": "code",
   "execution_count": 10,
   "metadata": {},
   "outputs": [
    {
     "name": "stdout",
     "output_type": "stream",
     "text": [
      "\n",
      "--- Basis Reconciliation and Data Grouping ---\n",
      "Basis Pair (A1, B2): 224 results\n",
      "Basis Pair (A2, B2): 221 results\n",
      "Basis Pair (A3, B1): 221 results\n",
      "Basis Pair (A3, B2): 213 results\n",
      "Basis Pair (A1, B1): 234 results\n",
      "Basis Pair (A2, B1): 234 results\n",
      "Basis Pair (A1, B3): 214 results\n",
      "Basis Pair (A2, B3): 215 results\n",
      "Basis Pair (A3, B3): 224 results\n"
     ]
    }
   ],
   "source": [
    "# --- Data Grouping ---\n",
    "grouped_results = {} # Dictionary to store results grouped by (alice_basis, bob_basis)\n",
    "for res in results:\n",
    "    basis_pair = (res['alice_basis'], res['bob_basis'])\n",
    "    if basis_pair not in grouped_results:\n",
    "        grouped_results[basis_pair] = []\n",
    "    grouped_results[basis_pair].append((res['alice_outcome'], res['bob_outcome']))\n",
    "\n",
    "print(\"\\n--- Basis Reconciliation and Data Grouping ---\")\n",
    "for basis_pair, outcomes in grouped_results.items():\n",
    "    print(f\"Basis Pair (A{basis_pair[0]}, B{basis_pair[1]}): {len(outcomes)} results\")"
   ]
  },
  {
   "cell_type": "code",
   "execution_count": 11,
   "metadata": {},
   "outputs": [
    {
     "name": "stdout",
     "output_type": "stream",
     "text": [
      "\n",
      "--- Calculating Correlation Values E(a, b) ---\n",
      "E(A1, B1) = -0.6325 (234 samples)\n",
      "E(A1, B3) = 0.7290 (214 samples)\n",
      "E(A3, B1) = -0.7466 (221 samples)\n",
      "E(A3, B3) = -0.6875 (224 samples)\n",
      "\n",
      "--- CHSH Test ---\n",
      "Calculated S value: -2.7956\n"
     ]
    }
   ],
   "source": [
    "# --- CHSH Correlation Calculation ---\n",
    "# E(a, b) = <A_a * B_b> = Avg[ value(alice_outcome) * value(bob_outcome) ]\n",
    "# where outcomes {0, 1} map to values {+1, -1}\n",
    "correlation_values = {}\n",
    "print(\"\\n--- Calculating Correlation Values E(a, b) ---\")\n",
    "\n",
    "for basis_pair in CHSH_BASIS_PAIRS:\n",
    "    if basis_pair in grouped_results:\n",
    "        outcomes = grouped_results[basis_pair]\n",
    "        if not outcomes:\n",
    "            correlation_values[basis_pair] = 0 # Handle case with no results for this pair\n",
    "            print(f\"Basis Pair {basis_pair}: No results found.\")\n",
    "            continue\n",
    "\n",
    "        sum_products = 0\n",
    "        for alice_outcome, bob_outcome in outcomes:\n",
    "            alice_val = outcome_to_value(alice_outcome)\n",
    "            bob_val = outcome_to_value(bob_outcome)\n",
    "            sum_products += alice_val * bob_val\n",
    "\n",
    "        correlation = sum_products / len(outcomes)\n",
    "        correlation_values[basis_pair] = correlation\n",
    "        print(f\"E(A{basis_pair[0]}, B{basis_pair[1]}) = {correlation:.4f} ({len(outcomes)} samples)\")\n",
    "    else:\n",
    "        correlation_values[basis_pair] = 0 # Or handle as error/insufficient data\n",
    "        print(f\"Basis Pair {basis_pair}: No results found.\")\n",
    "\n",
    "\n",
    "# --- Calculate CHSH Value S ---\n",
    "# S = E(A1, B1) - E(A1, B3) + E(A3, B1) + E(A3, B3) (Ekert's formulation)\n",
    "S_value = (correlation_values.get((1, 1), 0) -\n",
    "           correlation_values.get((1, 3), 0) +\n",
    "           correlation_values.get((3, 1), 0) +\n",
    "           correlation_values.get((3, 3), 0))\n",
    "\n",
    "print(\"\\n--- CHSH Test ---\")\n",
    "print(f\"Calculated S value: {S_value:.4f}\")"
   ]
  },
  {
   "cell_type": "code",
   "execution_count": 12,
   "metadata": {},
   "outputs": [
    {
     "name": "stdout",
     "output_type": "stream",
     "text": [
      "Theoretical S value for |Psi->: -2.8284\n",
      "Classical limit: |S| <= 2\n",
      "Test PASSED: |S| = 2.7956 > 2.1. Minimal eavesdropping detected.\n"
     ]
    }
   ],
   "source": [
    "# Theoretical maximum for |Psi-> state and these angles: -2*sqrt(2)\n",
    "theoretical_S = -2 * math.sqrt(2)\n",
    "print(f\"Theoretical S value for |Psi->: {theoretical_S:.4f}\")\n",
    "print(f\"Classical limit: |S| <= 2\")\n",
    "\n",
    "# Check for security\n",
    "SECURITY_THRESHOLD = 2.1 # A value significantly above 2\n",
    "if abs(S_value) > SECURITY_THRESHOLD:\n",
    "    print(f\"Test PASSED: |S| = {abs(S_value):.4f} > {SECURITY_THRESHOLD}. Minimal eavesdropping detected.\")\n",
    "    secure = True\n",
    "else:\n",
    "    print(f\"Test FAILED: |S| = {abs(S_value):.4f} <= {SECURITY_THRESHOLD}. Potential eavesdropping or high noise!\")\n",
    "    secure = False\n"
   ]
  },
  {
   "cell_type": "markdown",
   "metadata": {},
   "source": [
    "\n",
    "## 5. Key Generation\n",
    "\n",
    "If the CHSH test passes, Alice and Bob can generate a raw key using measurement results from basis pairs *not* used in the CHSH calculation. We need to identify pairs with strong correlation or anti-correlation.\n",
    "\n",
    "For $|\\Psi^-\\rangle$, the theoretical correlation is $E(\\theta_A, \\theta_B) = -\\cos(\\theta_A - \\theta_B)$.\n",
    "* If $E = -1$ (e.g., $\\theta_A = \\theta_B$, like $A_2, B_1$), outcomes are perfectly anti-correlated ($01$ or $10$). Bob flips his bit.\n",
    "* If $E = +1$ (e.g., $\\theta_A - \\theta_B = \\pi$), outcomes are perfectly correlated ($00$ or $11$). Bob keeps his bit.\n",
    "* Other pairs might have partial correlation. Typically, only strongly correlated/anti-correlated pairs are used for the key.\n",
    "\n",
    "Let's check correlation for a potential key-generating pair, e.g., $(A_2, B_1)$ where $\\theta_A = \\pi/4, \\theta_B = \\pi/4$. $E = -\\cos(0) = -1$. (Anti-correlated)\n",
    "Another pair: $(A_2, B_2)$ where $\\theta_A = \\pi/4, \\theta_B = \\pi/2$. $E = -\\cos(-\\pi/4) = -1/\\sqrt{2} \\approx -0.707$. (Partially anti-correlated)\n",
    "Let's use $(A_2, B_1)$ for the key, expecting anti-correlation."
   ]
  },
  {
   "cell_type": "code",
   "execution_count": 13,
   "metadata": {},
   "outputs": [
    {
     "name": "stdout",
     "output_type": "stream",
     "text": [
      "\n",
      "--- Raw Key Generation ---\n",
      "Using basis pair (2, 1) for key generation (234 results).\n",
      "Expecting anti-correlation (E = -1). Bob should flip his bits.\n",
      "Generated raw key length: 234\n",
      "Quantum Bit Error Rate (QBER) estimate: 0.0000\n",
      "Alice's raw key sample: 10101100000011011111\n",
      "Bob's raw key sample:   10101100000011011111\n"
     ]
    }
   ],
   "source": [
    "print(\"\\n--- Raw Key Generation ---\")\n",
    "if secure:\n",
    "    # Use basis pair (A2, B1) for key generation\n",
    "    key_basis_pair = (2, 1)\n",
    "    alice_raw_key = []\n",
    "    bob_raw_key = []\n",
    "    mismatches = 0\n",
    "\n",
    "    if key_basis_pair in grouped_results:\n",
    "        key_outcomes = grouped_results[key_basis_pair]\n",
    "        print(f\"Using basis pair {key_basis_pair} for key generation ({len(key_outcomes)} results).\")\n",
    "        print(\"Expecting anti-correlation (E = -1). Bob should flip his bits.\")\n",
    "\n",
    "        for alice_outcome, bob_outcome in key_outcomes:\n",
    "            alice_bit = int(alice_outcome)\n",
    "            bob_bit = int(bob_outcome)\n",
    "\n",
    "            # Bob flips his bit due to expected anti-correlation\n",
    "            bob_final_bit = 1 - bob_bit\n",
    "\n",
    "            alice_raw_key.append(alice_bit)\n",
    "            bob_raw_key.append(bob_final_bit)\n",
    "\n",
    "            if alice_bit != bob_final_bit:\n",
    "                mismatches += 1\n",
    "\n",
    "        print(f\"Generated raw key length: {len(alice_raw_key)}\")\n",
    "        if len(alice_raw_key) > 0:\n",
    "            qber = mismatches / len(alice_raw_key)\n",
    "            print(f\"Quantum Bit Error Rate (QBER) estimate: {qber:.4f}\")\n",
    "            # In ideal simulation, QBER should be 0.\n",
    "\n",
    "            # Display a sample of the key\n",
    "            sample_len = min(len(alice_raw_key), 20)\n",
    "            print(f\"Alice's raw key sample: {''.join(map(str, alice_raw_key[:sample_len]))}\")\n",
    "            print(f\"Bob's raw key sample:   {''.join(map(str, bob_raw_key[:sample_len]))}\")\n",
    "        else:\n",
    "            print(\"No results found for the chosen key generation basis pair.\")\n",
    "\n",
    "    else:\n",
    "        print(f\"Basis pair {key_basis_pair} not found in results. Cannot generate key.\")\n",
    "\n",
    "else:\n",
    "    print(\"CHSH test failed. No key generated due to security concerns.\")\n",
    "\n"
   ]
  },
  {
   "cell_type": "markdown",
   "metadata": {},
   "source": [
    "\n",
    "\n",
    "## 6. Conclusion\n",
    "\n",
    "This notebook simulated the E91 protocol. We generated entangled pairs, simulated measurements in randomly chosen bases, performed the CHSH test to check for eavesdropping, and extracted a raw secret key if the test passed.\n",
    "\n",
    "In this ideal, noise-free simulation:\n",
    "* The CHSH value $S$ should be close to the theoretical maximum of $|-2\\sqrt{2}| \\approx 2.828$.\n",
    "* The QBER for the generated key (using appropriate basis pairs and bit flipping) should be close to 0.\n",
    "\n",
    "Deviations from these values in a real experiment or noisy simulation would indicate errors or potential eavesdropping, requiring further steps like error correction and privacy amplification."
   ]
  }
 ],
 "metadata": {
  "kernelspec": {
   "display_name": "base",
   "language": "python",
   "name": "python3"
  },
  "language_info": {
   "codemirror_mode": {
    "name": "ipython",
    "version": 3
   },
   "file_extension": ".py",
   "mimetype": "text/x-python",
   "name": "python",
   "nbconvert_exporter": "python",
   "pygments_lexer": "ipython3",
   "version": "3.11.7"
  }
 },
 "nbformat": 4,
 "nbformat_minor": 2
}
