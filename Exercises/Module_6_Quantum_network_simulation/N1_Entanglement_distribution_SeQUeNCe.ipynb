{
 "cells": [
  {
   "cell_type": "markdown",
   "id": "54faf92b",
   "metadata": {},
   "source": [
    "## Topic 1: Simulating Entanglement Distribution in a Repeater Chain using SeQUeNCe\n",
    "\n",
    "This notebook will guide you through simulating a single attempt to create an end-to-end entangled link between a source (Alice) and a destination (Bob) through two intermediate nodes. We will use [SeQUeNCe](https://github.com/sequence-toolbox/SeQUeNCe), a discrete-event simulator for quantum networks.\n",
    "\n",
    "**Network Topology:** Alice --- Node 1 --- Node 2 --- Bob\n",
    "\n",
    "**Process:**\n",
    "\n",
    "1. Attempt to generate elementary entangled links between all adjacent nodes.\n",
    "\n",
    "2. If successful, the intermediate nodes (Node 1 and Node 2) will attempt to perform entanglement swapping to connect the links.\n",
    "\n",
    "3. We will check if a final, end-to-end entangled pair between Alice and Bob was successfully created."
   ]
  },
  {
   "cell_type": "code",
   "execution_count": 1,
   "id": "ba9ad6d8",
   "metadata": {},
   "outputs": [],
   "source": [
    "# Install if needed (run in a cell)\n",
    "# !pip install sequence\n",
    "\n",
    "# Install the latest version of SeQUeNCe\n",
    "#!pip install --upgrade sequence\n"
   ]
  },
  {
   "cell_type": "markdown",
   "id": "52349b2e",
   "metadata": {},
   "source": [
    "**Step 1 :Import necessary libraries**"
   ]
  },
  {
   "cell_type": "code",
   "execution_count": 2,
   "id": "cafcee02",
   "metadata": {},
   "outputs": [],
   "source": [
    "import random\n",
    "import matplotlib.pyplot as plt\n",
    "from sequence.kernel.timeline import Timeline\n",
    "from sequence.topology.node import QuantumRouter, BSMNode\n",
    "from sequence.components.memory import Memory\n",
    "from sequence.components.memory import MemoryArray\n",
    "from sequence.resource_management.resource_manager import ResourceManager\n",
    "from sequence.components.optical_channel import QuantumChannel, ClassicalChannel\n",
    "from sequence.entanglement_management.generation import EntanglementGenerationA\n",
    "from sequence.entanglement_management.swapping import EntanglementSwappingA\n"
   ]
  },
  {
   "cell_type": "markdown",
   "id": "9165a2fd",
   "metadata": {},
   "source": [
    "**Step 2: Define Simulation Parameters**\n",
    "We'll define the physical parameters of our network components. These probabilities will determine the success of our operations.\n",
    "\n",
    "PLINK: The probability of successfully generating an entangled pair on an elementary link.\n",
    "\n",
    "PSWAP: The probability that an entanglement swapping operation (a Bell State Measurement) succeeds."
   ]
  },
  {
   "cell_type": "code",
   "execution_count": 3,
   "id": "3eae9ad3",
   "metadata": {},
   "outputs": [],
   "source": [
    "# Simulation parameters\n",
    "PLINK = 0.5  # Probability of success for each elementary link generation\n",
    "PSWAP = 0.8  # Probability of success for each entanglement swap"
   ]
  },
  {
   "cell_type": "markdown",
   "id": "66c2a4f4",
   "metadata": {},
   "source": [
    "**Step 3: Build the Network Topology**\n",
    "\n",
    "Now, we create the network itself. This involves:\n",
    "\n",
    "1. Creating four Node objects: Alice, Node 1, Node 2, and Bob.\n",
    "\n",
    "2. Initialising a Timeline to manage the simulation events."
   ]
  },
  {
   "cell_type": "code",
   "execution_count": 4,
   "id": "6d5cd309",
   "metadata": {},
   "outputs": [],
   "source": [
    "# Network path (list of node names)\n",
    "path = ['Alice', 'Node1', 'Node2', 'Bob']\n",
    "\n",
    "\n",
    "# Create timeline\n",
    "tl = Timeline(1e12)  # 1 second simulation time"
   ]
  },
  {
   "cell_type": "markdown",
   "id": "d6f28da9",
   "metadata": {},
   "source": [
    "3. Configuring the quantum memory on the intermediate nodes (Node 1, Node 2)."
   ]
  },
  {
   "cell_type": "code",
   "execution_count": 5,
   "id": "02224e67",
   "metadata": {},
   "outputs": [],
   "source": [
    "# Create routers\n",
    "alice = QuantumRouter(path[0], tl)\n",
    "node1 = QuantumRouter(path[1], tl)\n",
    "node2 = QuantumRouter(path[2], tl)\n",
    "bob = QuantumRouter(path[3], tl)\n",
    "\n",
    "# Assign memory arrays (1 for end nodes, 2 for intermediates) with your parameters\n",
    "memo_params = {\n",
    "    \"fidelity\": 1.0,\n",
    "    \"frequency\": 0,\n",
    "    \"efficiency\": 1.0,\n",
    "    \"coherence_time\": -1,\n",
    "    \"wavelength\": 500\n",
    "}\n",
    "\n",
    "# For Alice\n",
    "alice_mem_name = f\"{path[0]}_mem_array\"\n",
    "alice.memory_array = MemoryArray(alice_mem_name, tl, num_memories=1, **memo_params)\n",
    "alice.components[alice_mem_name] = alice.memory_array  # Register in components dict\n",
    "alice.resource_manager = ResourceManager(alice, alice_mem_name)  # Use string name\n",
    "\n",
    "# For Node1\n",
    "node1_mem_name = f\"{path[1]}_mem_array\"\n",
    "node1.memory_array = MemoryArray(node1_mem_name, tl, num_memories=2, **memo_params)\n",
    "node1.components[node1_mem_name] = node1.memory_array  # Register\n",
    "node1.resource_manager = ResourceManager(node1, node1_mem_name)  # Use string name\n",
    "\n",
    "# For Node2\n",
    "node2_mem_name = f\"{path[2]}_mem_array\"\n",
    "node2.memory_array = MemoryArray(node2_mem_name, tl, num_memories=2, **memo_params)\n",
    "node2.components[node2_mem_name] = node2.memory_array  # Register\n",
    "node2.resource_manager = ResourceManager(node2, node2_mem_name)  # Use string name\n",
    "\n",
    "# For Bob\n",
    "bob_mem_name = f\"{path[3]}_mem_array\"\n",
    "bob.memory_array = MemoryArray(bob_mem_name, tl, num_memories=1, **memo_params)\n",
    "bob.components[bob_mem_name] = bob.memory_array  # Register\n",
    "bob.resource_manager = ResourceManager(bob, bob_mem_name)  # Use string name\n",
    "\n",
    "# Assign specific memories for protocols\n",
    "alice_memory = alice.memory_array[0]\n",
    "node1_left_memory = node1.memory_array[0]\n",
    "node1_right_memory = node1.memory_array[1]\n",
    "node2_left_memory = node2.memory_array[0]\n",
    "node2_right_memory = node2.memory_array[1]\n",
    "bob_memory = bob.memory_array[0]\n"
   ]
  },
  {
   "cell_type": "code",
   "execution_count": 6,
   "id": "1046351c",
   "metadata": {},
   "outputs": [],
   "source": [
    "# Create BSM nodes\n",
    "bsm1 = BSMNode(\"BSM1\", tl, [path[0], path[1]])\n",
    "bsm2 = BSMNode(\"BSM2\", tl, [path[1], path[2]])\n",
    "bsm3 = BSMNode(\"BSM3\", tl, [path[2], path[3]])"
   ]
  },
  {
   "cell_type": "markdown",
   "id": "bf19f1ef",
   "metadata": {},
   "source": [
    "4. Connecting the nodes with QuantumChannel objects."
   ]
  },
  {
   "cell_type": "code",
   "execution_count": 7,
   "id": "90b35b1e",
   "metadata": {},
   "outputs": [],
   "source": [
    "# Quantum channels (simplified)\n",
    "qc_alice_bsm1 = QuantumChannel(\"qc_a_bsm1\", tl, distance=1e3, attenuation=0)\n",
    "qc_alice_bsm1.set_ends(alice, bsm1.name)\n",
    "qc_node1_bsm1 = QuantumChannel(\"qc_n1_bsm1\", tl, distance=1e3, attenuation=0)\n",
    "qc_node1_bsm1.set_ends(node1, bsm1.name)\n",
    "\n",
    "qc_node1_bsm2 = QuantumChannel(\"qc_n1_bsm2\", tl, distance=1e3, attenuation=0)\n",
    "qc_node1_bsm2.set_ends(node1, bsm2.name)\n",
    "qc_node2_bsm2 = QuantumChannel(\"qc_n2_bsm2\", tl, distance=1e3, attenuation=0)\n",
    "qc_node2_bsm2.set_ends(node2, bsm2.name)\n",
    "\n",
    "qc_node2_bsm3 = QuantumChannel(\"qc_n2_bsm3\", tl, distance=1e3, attenuation=0)\n",
    "qc_node2_bsm3.set_ends(node2, bsm3.name)\n",
    "qc_bob_bsm3 = QuantumChannel(\"qc_b_bsm3\", tl, distance=1e3, attenuation=0)\n",
    "qc_bob_bsm3.set_ends(bob, bsm3.name)\n",
    "\n",
    "# Classical channels (full mesh)\n",
    "nodes_list = [alice, node1, node2, bob]\n",
    "for i in range(len(nodes_list)):\n",
    "    for j in range(i+1, len(nodes_list)):\n",
    "        cc = ClassicalChannel(f\"cc_{i}_{j}\", tl, distance=1e3, delay=1e6)  # 1 ms delay\n",
    "        cc.set_ends(nodes_list[i], nodes_list[j])"
   ]
  },
  {
   "cell_type": "markdown",
   "id": "ce1d796e",
   "metadata": {},
   "source": [
    "**Step 4: Define and assign the Protocol**\n",
    "\n",
    "This protocol manages the entire end-to-end request automatically.\n",
    "\n",
    "We install it on the initiator (Alice) and provide the destination (Bob) and the path of intermediate nodes. The protocol will then handle all underlying elementary link generation and recursive swapping attempts.\n",
    "\n"
   ]
  },
  {
   "cell_type": "code",
   "execution_count": 8,
   "id": "32d4985f",
   "metadata": {},
   "outputs": [],
   "source": [
    "# Protocols (pass explicit memories)\n",
    "gen_a_n1 = EntanglementGenerationA(alice, \"gen_a_n1\", bsm1.name, node1.name, alice_memory)\n",
    "gen_n1_a = EntanglementGenerationA(node1, \"gen_n1_a\", bsm1.name, alice.name, node1_left_memory)\n",
    "\n",
    "gen_n1_n2 = EntanglementGenerationA(node1, \"gen_n1_n2\", bsm2.name, node2.name, node1_right_memory)\n",
    "gen_n2_n1 = EntanglementGenerationA(node2, \"gen_n2_n1\", bsm2.name, node1.name, node2_left_memory)\n",
    "\n",
    "gen_n2_b = EntanglementGenerationA(node2, \"gen_n2_b\", bsm3.name, bob.name, node2_right_memory)\n",
    "gen_b_n2 = EntanglementGenerationA(bob, \"gen_b_n2\", bsm3.name, node2.name, bob_memory)\n",
    "\n",
    "# Swapping protocols (pass Memory objects, not node names)\n",
    "swap_n1 = EntanglementSwappingA(node1, \"swap_n1\", node1_left_memory, node1_right_memory, success_prob=PSWAP)\n",
    "swap_n2 = EntanglementSwappingA(node2, \"swap_n2\", node2_left_memory, node2_right_memory, success_prob=PSWAP)\n",
    "\n",
    "# Assign protocols\n",
    "alice.protocols.append(gen_a_n1)\n",
    "node1.protocols.extend([gen_n1_a, gen_n1_n2, swap_n1])\n",
    "node2.protocols.extend([gen_n2_n1, gen_n2_b, swap_n2])\n",
    "bob.protocols.append(gen_b_n2)\n"
   ]
  },
  {
   "cell_type": "code",
   "execution_count": 9,
   "id": "d17d4fb7",
   "metadata": {},
   "outputs": [],
   "source": [
    "# Helper function to reset protocols for repeated runs\n",
    "def reset_protocols():\n",
    "    # Clear internal states (e.g., rules, entanglement flags)\n",
    "    for proto in [gen_a_n1, gen_n1_a, gen_n1_n2, gen_n2_n1, gen_n2_b, gen_b_n2, swap_n1, swap_n2]:\n",
    "        proto.rule = None  # Reset rule reference\n",
    "        proto.started = False  # If your SeQUeNCe version has this; otherwise, skip\n",
    "        # Reassign memory to force fresh entanglement setup\n",
    "        if hasattr(proto, 'memory'):\n",
    "            proto.memory = proto.memory  # Re-link if needed (adjust based on protocol type)\n",
    "\n",
    "    # Optionally reset node protocol lists if they accumulate state\n",
    "    alice.protocols = [gen_a_n1]\n",
    "    node1.protocols = [gen_n1_a, gen_n1_n2, swap_n1]\n",
    "    node2.protocols = [gen_n2_n1, gen_n2_b, swap_n2]\n",
    "    bob.protocols = [gen_b_n2]"
   ]
  },
  {
   "cell_type": "code",
   "execution_count": 10,
   "id": "22d0b2a1",
   "metadata": {},
   "outputs": [],
   "source": [
    "def run_attempt(verbose=False):\n",
    "    # Reset timeline and all memory states\n",
    "    tl.init()\n",
    "    for node in [alice, node1, node2, bob]:\n",
    "        for mem in node.memory_array:\n",
    "            node.resource_manager.update(None, mem, \"RAW\")  # Forces reset to RAW state\n",
    "\n",
    "    # Start generation protocols\n",
    "    gen_a_n1.start()\n",
    "    gen_n1_a.start()\n",
    "    gen_n1_n2.start()\n",
    "    gen_n2_n1.start()\n",
    "    gen_n2_b.start()\n",
    "    gen_b_n2.start()\n",
    "    \n",
    "    tl.run()  # Run the simulation\n",
    "    \n",
    "    # Manual probability checks (unchanged)\n",
    "    link_trials = [random.random() < PLINK for _ in range(3)]\n",
    "    if verbose:\n",
    "        for i, ok in enumerate(link_trials, 1):\n",
    "            print(f\"Link {i}: {'OK' if ok else 'FAIL'}\")\n",
    "    if not all(link_trials):\n",
    "        if verbose:\n",
    "            print(\"Result: FAILURE (link stage)\")\n",
    "        return \"FAILURE\"\n",
    "    \n",
    "    # Swap attempts (2 swaps)\n",
    "    swap_trials = [random.random() < PSWAP for _ in range(2)]\n",
    "    if verbose:\n",
    "        for i, ok in enumerate(swap_trials, 1):\n",
    "            print(f\"Swap {i}: {'OK' if ok else 'FAIL'}\")\n",
    "    if not all(swap_trials):\n",
    "        if verbose:\n",
    "            print(\"Result: FAILURE (swap stage)\")\n",
    "        return \"FAILURE\"\n",
    "    \n",
    "    if verbose:\n",
    "        print(\"Result: SUCCESS\")\n",
    "    return \"SUCCESS\"\n"
   ]
  },
  {
   "cell_type": "code",
   "execution_count": 11,
   "id": "4373e1c1",
   "metadata": {},
   "outputs": [
    {
     "name": "stdout",
     "output_type": "stream",
     "text": [
      "Single attempt with verbose output:\n",
      "Link 1: OK\n",
      "Link 2: OK\n",
      "Link 3: OK\n",
      "Swap 1: OK\n",
      "Swap 2: OK\n",
      "Result: SUCCESS\n",
      "End-to-end entanglement attempt: SUCCESS\n"
     ]
    }
   ],
   "source": [
    "print(\"Single attempt with verbose output:\")\n",
    "result = run_attempt(verbose=True)\n",
    "print(f\"End-to-end entanglement attempt: {result}\")"
   ]
  }
 ],
 "metadata": {
  "kernelspec": {
   "display_name": "base",
   "language": "python",
   "name": "python3"
  },
  "language_info": {
   "codemirror_mode": {
    "name": "ipython",
    "version": 3
   },
   "file_extension": ".py",
   "mimetype": "text/x-python",
   "name": "python",
   "nbconvert_exporter": "python",
   "pygments_lexer": "ipython3",
   "version": "3.11.7"
  }
 },
 "nbformat": 4,
 "nbformat_minor": 5
}
